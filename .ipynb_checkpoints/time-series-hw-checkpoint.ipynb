{
 "cells": [
  {
   "cell_type": "markdown",
   "id": "2d9548a4-811f-4e39-94e6-5928fee5ae1f",
   "metadata": {},
   "source": [
    "# Time Series Analysis\n",
    "\n",
    "This Jupyterlab notebook contains homework 1 for the course [EDS 296](https://bren.ucsb.edu/courses/eds-296-1s), taught by Dr. Samantha Stevenson.\n",
    "\n",
    "Author: Naomi Moraes\n",
    "\n",
    "GitHub: https://github.com/nmoraescommit/time-series_hw.git"
   ]
  },
  {
   "cell_type": "code",
   "execution_count": 1,
   "id": "e0be9907-021e-4fdd-b4e8-af4cd639b6b4",
   "metadata": {
    "tags": []
   },
   "outputs": [],
   "source": [
    "import xarray as xr\n",
    "import matplotlib.pyplot as plt\n",
    "import numpy as np\n",
    "import intake\n",
    "import s3fs\n",
    "import warnings\n",
    "import pandas as pd\n",
    "warnings.filterwarnings(\"ignore\", message=\"Unable to decode time axis\")"
   ]
  },
  {
   "cell_type": "markdown",
   "id": "839ae229-35da-4821-8367-1b888b48a110",
   "metadata": {},
   "source": [
    "## Accessing CMIP6 AWS Catalog"
   ]
  },
  {
   "cell_type": "markdown",
   "id": "25f85260-7783-4343-8c58-ca7ce4be3554",
   "metadata": {},
   "source": [
    "### Locate monthly data for a historical time series\n",
    "\n",
    "Locate monthly data for a historical simulation run with any two CMIP6 models of your\n",
    "choice. For this assignment let's use 2 established models - CESM2 as well as ACCESS-ESM1-5. We will focus on the climate variable surface air temperature (tas)."
   ]
  },
  {
   "cell_type": "code",
   "execution_count": 2,
   "id": "1e404d0e-29a3-47c3-bb14-d84a923389cc",
   "metadata": {
    "tags": []
   },
   "outputs": [],
   "source": [
    "# Store CMIP6 data catalog as a variable\n",
    "catalog = intake.open_esm_datastore('https://cmip6-pds.s3.amazonaws.com/pangeo-cmip6.json')"
   ]
  },
  {
   "cell_type": "markdown",
   "id": "10f9558d-5b8d-4507-9693-3dcc4af6b355",
   "metadata": {},
   "source": [
    "Let's see all the models we could use."
   ]
  },
  {
   "cell_type": "code",
   "execution_count": 3,
   "id": "02c12ef8-9f10-433c-ac71-f14b72fe8add",
   "metadata": {
    "tags": []
   },
   "outputs": [
    {
     "data": {
      "text/plain": [
       "array(['GFDL-CM4', 'GFDL-ESM4', 'IPSL-CM6A-LR', 'GISS-E2-1-G',\n",
       "       'CNRM-CM6-1', 'BCC-CSM2-MR', 'BCC-ESM1', 'CNRM-ESM2-1', 'MIROC6',\n",
       "       'AWI-CM-1-1-MR', 'MRI-ESM2-0', 'CESM2-WACCM', 'CanESM5', 'CESM2',\n",
       "       'SAM0-UNICON', 'GISS-E2-1-H', 'UKESM1-0-LL', 'EC-Earth3',\n",
       "       'CanESM5-CanOE', 'INM-CM4-8', 'EC-Earth3-Veg', 'INM-CM5-0',\n",
       "       'HadGEM3-GC31-LL', 'MPI-ESM-1-2-HAM', 'NESM3', 'CAMS-CSM1-0',\n",
       "       'MPI-ESM1-2-LR', 'MPI-ESM1-2-HR', 'E3SM-1-0', 'MCM-UA-1-0',\n",
       "       'NorESM2-LM', 'GISS-E2-1-G-CC', 'FGOALS-g3', 'FGOALS-f3-L',\n",
       "       'MIROC-ES2L', 'KACE-1-0-G', 'NorCPM1', 'CNRM-CM6-1-HR',\n",
       "       'KIOST-ESM', 'NorESM2-MM', 'ACCESS-CM2', 'FIO-ESM-2-0',\n",
       "       'ACCESS-ESM1-5', 'CESM2-FV2', 'CESM2-WACCM-FV2', 'GISS-E2-2-H',\n",
       "       'E3SM-1-1', 'HadGEM3-GC31-MM', 'IITM-ESM', 'CIESM', 'E3SM-1-1-ECA',\n",
       "       'AWI-ESM-1-1-LR', 'EC-Earth3-Veg-LR', 'TaiESM1', 'CAS-ESM2-0',\n",
       "       'CMCC-CM2-SR5', 'EC-Earth3-AerChem', 'IPSL-CM5A2-INCA',\n",
       "       'CMCC-CM2-HR4', 'EC-Earth3P-VHR', 'EC-Earth3-CC', 'CMCC-ESM2',\n",
       "       'MIROC-ES2H', 'ICON-ESM-LR', 'IPSL-CM6A-LR-INCA'], dtype=object)"
      ]
     },
     "execution_count": 3,
     "metadata": {},
     "output_type": "execute_result"
    }
   ],
   "source": [
    "# Search through catalog, find all historical simulations\n",
    "search = catalog.search(activity_id = \"CMIP\", experiment_id = \"historical\")\n",
    "\n",
    "# Convert to a data frame\n",
    "search_df = search.df\n",
    "\n",
    "# Generate a list of model names to choose from\n",
    "search_df.source_id.unique()"
   ]
  },
  {
   "cell_type": "markdown",
   "id": "e633746c-b37f-4cdb-9369-c47acafd3ae1",
   "metadata": {},
   "source": [
    "### Selecting model attributes"
   ]
  },
  {
   "cell_type": "markdown",
   "id": "893a4952-e426-4c54-8235-30c431e9cf2f",
   "metadata": {},
   "source": [
    "Now that we've narrowed down our models - let's see the unique member_ids."
   ]
  },
  {
   "cell_type": "code",
   "execution_count": 4,
   "id": "8926d805-7f17-45d9-ab24-af8879f8d7f0",
   "metadata": {
    "tags": []
   },
   "outputs": [],
   "source": [
    "# Search through catalog, store results in \"search\" variable\n",
    "search_1 = catalog.search(activity_id= 'CMIP', experiment_id= 'historical', source_id = 'CESM2')\n",
    "search_2 = catalog.search(activity_id= 'CMIP', experiment_id= 'historical', source_id = 'CanESM5')\n",
    "\n",
    "# Display data frame associated with results\n",
    "search_1_df = search_1.df\n",
    "search_2_df = search_2.df"
   ]
  },
  {
   "cell_type": "code",
   "execution_count": 5,
   "id": "c2c3bdcb-d9dc-4ca3-9445-b69a5b13d682",
   "metadata": {
    "tags": []
   },
   "outputs": [],
   "source": [
    "# search_1_df.member_id.unique() # Uncomment to view"
   ]
  },
  {
   "cell_type": "code",
   "execution_count": 6,
   "id": "77e6e543-1ded-4627-8caf-aea32fe3c95b",
   "metadata": {
    "tags": []
   },
   "outputs": [],
   "source": [
    "# search_2_df.member_id.unique() # Uncomment to view"
   ]
  },
  {
   "cell_type": "markdown",
   "id": "2c204e3e-8c08-4574-8b39-fc915a47884c",
   "metadata": {},
   "source": [
    "The member_id I'd like to use for both is r10i1p1f1. "
   ]
  },
  {
   "cell_type": "code",
   "execution_count": 7,
   "id": "9ac99eb6-093d-492d-993b-3fb4ba2888f8",
   "metadata": {
    "tags": []
   },
   "outputs": [],
   "source": [
    "# Search through catalog, store results in \"search\" variable\n",
    "search_1 = catalog.search(activity_id= 'CMIP', experiment_id= 'historical', source_id = 'CESM2', member_id = 'r8i1p1f1')\n",
    "search_2 = catalog.search(activity_id= 'CMIP', experiment_id= 'historical', source_id = 'CanESM5', member_id = 'r8i1p1f1')"
   ]
  },
  {
   "cell_type": "code",
   "execution_count": 8,
   "id": "21fbdcd0-ad35-4344-ae57-c79e3244fd45",
   "metadata": {
    "tags": []
   },
   "outputs": [],
   "source": [
    "# search_1_df.variable_id.unique() # Uncommet to view"
   ]
  },
  {
   "cell_type": "code",
   "execution_count": 9,
   "id": "4c8c078c-64a4-49b1-887d-3b49c6cf9b39",
   "metadata": {
    "tags": []
   },
   "outputs": [],
   "source": [
    "#search_2_df.variable_id.unique() # Uncomment to view"
   ]
  },
  {
   "cell_type": "markdown",
   "id": "557d41cf-06b4-4e10-bdbe-76eda417fe4b",
   "metadata": {},
   "source": [
    "I'll use the variable 'tas' for each model - meaning surface air temperature. Finally, let's look at the table ids we would like to select."
   ]
  },
  {
   "cell_type": "code",
   "execution_count": 10,
   "id": "71000c16-e5f1-4de0-94e6-d6eb0a412673",
   "metadata": {
    "tags": []
   },
   "outputs": [],
   "source": [
    "# Display data frame associated with results\n",
    "# search_1_df.table_id.unique() # Uncomment to view"
   ]
  },
  {
   "cell_type": "code",
   "execution_count": 11,
   "id": "97447b40-7db7-4054-9643-4f0e8e8c2a7e",
   "metadata": {
    "tags": []
   },
   "outputs": [],
   "source": [
    "# search_2_df.table_id.unique() # Uncomment to view"
   ]
  },
  {
   "cell_type": "markdown",
   "id": "5964446a-b1af-43fc-b8e5-f59bbc2216d5",
   "metadata": {},
   "source": [
    "Here we can see that attributes are the same except for source_id."
   ]
  },
  {
   "cell_type": "code",
   "execution_count": 12,
   "id": "03db410d-299c-48e4-8d84-a98d88cebc56",
   "metadata": {
    "tags": []
   },
   "outputs": [],
   "source": [
    "# Finalize attributes\n",
    "search_1 = catalog.search(activity_id= 'CMIP', \n",
    "                          experiment_id= 'historical', \n",
    "                          source_id = 'CESM2', \n",
    "                          member_id = 'r8i1p1f1', \n",
    "                          variable_id = 'tas', \n",
    "                          table_id = 'Amon')\n",
    "\n",
    "search_2 = catalog.search(activity_id= 'CMIP', \n",
    "                          experiment_id= 'historical', \n",
    "                          source_id = 'CanESM5', \n",
    "                          member_id = 'r4i1p1f1', \n",
    "                          variable_id = 'tas', \n",
    "                          table_id = 'Amon')\n",
    "\n",
    "# Display data frame associated with results\n",
    "search_1_df = search_1.df\n",
    "search_2_df = search_2.df"
   ]
  },
  {
   "cell_type": "code",
   "execution_count": 13,
   "id": "8e3d5d86-063e-4713-a730-92084a3a643f",
   "metadata": {
    "tags": []
   },
   "outputs": [
    {
     "data": {
      "text/html": [
       "<div>\n",
       "<style scoped>\n",
       "    .dataframe tbody tr th:only-of-type {\n",
       "        vertical-align: middle;\n",
       "    }\n",
       "\n",
       "    .dataframe tbody tr th {\n",
       "        vertical-align: top;\n",
       "    }\n",
       "\n",
       "    .dataframe thead th {\n",
       "        text-align: right;\n",
       "    }\n",
       "</style>\n",
       "<table border=\"1\" class=\"dataframe\">\n",
       "  <thead>\n",
       "    <tr style=\"text-align: right;\">\n",
       "      <th></th>\n",
       "      <th>activity_id</th>\n",
       "      <th>institution_id</th>\n",
       "      <th>source_id</th>\n",
       "      <th>experiment_id</th>\n",
       "      <th>member_id</th>\n",
       "      <th>table_id</th>\n",
       "      <th>variable_id</th>\n",
       "      <th>grid_label</th>\n",
       "      <th>zstore</th>\n",
       "      <th>dcpp_init_year</th>\n",
       "      <th>version</th>\n",
       "    </tr>\n",
       "  </thead>\n",
       "  <tbody>\n",
       "    <tr>\n",
       "      <th>0</th>\n",
       "      <td>CMIP</td>\n",
       "      <td>NCAR</td>\n",
       "      <td>CESM2</td>\n",
       "      <td>historical</td>\n",
       "      <td>r8i1p1f1</td>\n",
       "      <td>Amon</td>\n",
       "      <td>tas</td>\n",
       "      <td>gn</td>\n",
       "      <td>s3://cmip6-pds/CMIP6/CMIP/NCAR/CESM2/historica...</td>\n",
       "      <td>NaN</td>\n",
       "      <td>20190311</td>\n",
       "    </tr>\n",
       "  </tbody>\n",
       "</table>\n",
       "</div>"
      ],
      "text/plain": [
       "  activity_id institution_id source_id experiment_id member_id table_id  \\\n",
       "0        CMIP           NCAR     CESM2    historical  r8i1p1f1     Amon   \n",
       "\n",
       "  variable_id grid_label                                             zstore  \\\n",
       "0         tas         gn  s3://cmip6-pds/CMIP6/CMIP/NCAR/CESM2/historica...   \n",
       "\n",
       "   dcpp_init_year   version  \n",
       "0             NaN  20190311  "
      ]
     },
     "execution_count": 13,
     "metadata": {},
     "output_type": "execute_result"
    }
   ],
   "source": [
    "search_1_df.head()"
   ]
  },
  {
   "cell_type": "code",
   "execution_count": 14,
   "id": "6ea1cef8-770a-4832-b4f8-a77500aa1fc3",
   "metadata": {
    "tags": []
   },
   "outputs": [
    {
     "data": {
      "text/html": [
       "<div>\n",
       "<style scoped>\n",
       "    .dataframe tbody tr th:only-of-type {\n",
       "        vertical-align: middle;\n",
       "    }\n",
       "\n",
       "    .dataframe tbody tr th {\n",
       "        vertical-align: top;\n",
       "    }\n",
       "\n",
       "    .dataframe thead th {\n",
       "        text-align: right;\n",
       "    }\n",
       "</style>\n",
       "<table border=\"1\" class=\"dataframe\">\n",
       "  <thead>\n",
       "    <tr style=\"text-align: right;\">\n",
       "      <th></th>\n",
       "      <th>activity_id</th>\n",
       "      <th>institution_id</th>\n",
       "      <th>source_id</th>\n",
       "      <th>experiment_id</th>\n",
       "      <th>member_id</th>\n",
       "      <th>table_id</th>\n",
       "      <th>variable_id</th>\n",
       "      <th>grid_label</th>\n",
       "      <th>zstore</th>\n",
       "      <th>dcpp_init_year</th>\n",
       "      <th>version</th>\n",
       "    </tr>\n",
       "  </thead>\n",
       "  <tbody>\n",
       "    <tr>\n",
       "      <th>0</th>\n",
       "      <td>CMIP</td>\n",
       "      <td>CCCma</td>\n",
       "      <td>CanESM5</td>\n",
       "      <td>historical</td>\n",
       "      <td>r4i1p1f1</td>\n",
       "      <td>Amon</td>\n",
       "      <td>tas</td>\n",
       "      <td>gn</td>\n",
       "      <td>s3://cmip6-pds/CMIP6/CMIP/CCCma/CanESM5/histor...</td>\n",
       "      <td>NaN</td>\n",
       "      <td>20190429</td>\n",
       "    </tr>\n",
       "  </tbody>\n",
       "</table>\n",
       "</div>"
      ],
      "text/plain": [
       "  activity_id institution_id source_id experiment_id member_id table_id  \\\n",
       "0        CMIP          CCCma   CanESM5    historical  r4i1p1f1     Amon   \n",
       "\n",
       "  variable_id grid_label                                             zstore  \\\n",
       "0         tas         gn  s3://cmip6-pds/CMIP6/CMIP/CCCma/CanESM5/histor...   \n",
       "\n",
       "   dcpp_init_year   version  \n",
       "0             NaN  20190429  "
      ]
     },
     "execution_count": 14,
     "metadata": {},
     "output_type": "execute_result"
    }
   ],
   "source": [
    "search_2_df.head()"
   ]
  },
  {
   "cell_type": "markdown",
   "id": "813d08e2-3f15-4e6f-a1f3-8f590792b894",
   "metadata": {
    "tags": []
   },
   "source": [
    "### Locate Corresponding Future Projection Data\n",
    "\n",
    "Write Python code, to access via the cloud, data from the historical simulation, as well as corresponding future projection information for two different future emissions scenarios, for each model. For both the selected models I'll be using the SSPs 'ssp126' and 'ssp585'."
   ]
  },
  {
   "cell_type": "code",
   "execution_count": 99,
   "id": "6cb8a906-0e84-4394-9457-22005ff3ed62",
   "metadata": {
    "tags": []
   },
   "outputs": [],
   "source": [
    "# Specify search terms to query catalog for CanESM5 data\n",
    "# activity_id: which project do you want? CMIP = historical data, ScenarioMIP = future projections\n",
    "activity_ids = ['ScenarioMIP', 'CMIP'] \n",
    "\n",
    "# source_id: which model do you want? \n",
    "source_id_1 = [\"CESM2\"]\n",
    "source_id_2 = [\"CanESM5\"]\n",
    "\n",
    "# experiment_id: what experimental configuration do you want? Here we want historical and the four main SSPs\n",
    "experiment_ids = ['historical', 'ssp126', 'ssp245', 'ssp370', 'ssp585']\n",
    "\n",
    "# member_id: which ensemble member do you want? Here we want r10i1p1f1\n",
    "member_id = [\"r4i1p1f1\"]\n",
    "\n",
    "# table_id: which part of the Earth system and time resolution do you want? Here we want monthly atmosphere data\n",
    "table_id = \"Amon\"\n",
    "\n",
    "# variable_id: which climate variable do you want? Here we want surface air temperature\n",
    "variable_id = \"tas\""
   ]
  },
  {
   "cell_type": "code",
   "execution_count": 100,
   "id": "9cc04a9d-4893-475b-bd1a-1b5e500d2631",
   "metadata": {
    "tags": []
   },
   "outputs": [],
   "source": [
    "# Search through catalog, store results in  variable\n",
    "future_1 = catalog.search(activity_id=activity_ids, source_id=source_id_1, experiment_id=experiment_ids, \n",
    "                     member_id=member_id, table_id=table_id, variable_id=variable_id)\n",
    "\n",
    "future_2 = catalog.search(activity_id=activity_ids, source_id=source_id_2, experiment_id=experiment_ids, \n",
    "                     member_id=member_id, table_id=table_id, variable_id=variable_id)\n",
    "# Save as df\n",
    "future_1_df = future_1.df\n",
    "future_2_df = future_2.df"
   ]
  },
  {
   "cell_type": "code",
   "execution_count": 103,
   "id": "918f7f4d-4d1d-43c0-8a87-1a8288bdf1f1",
   "metadata": {
    "tags": []
   },
   "outputs": [
    {
     "data": {
      "text/html": [
       "<div>\n",
       "<style scoped>\n",
       "    .dataframe tbody tr th:only-of-type {\n",
       "        vertical-align: middle;\n",
       "    }\n",
       "\n",
       "    .dataframe tbody tr th {\n",
       "        vertical-align: top;\n",
       "    }\n",
       "\n",
       "    .dataframe thead th {\n",
       "        text-align: right;\n",
       "    }\n",
       "</style>\n",
       "<table border=\"1\" class=\"dataframe\">\n",
       "  <thead>\n",
       "    <tr style=\"text-align: right;\">\n",
       "      <th></th>\n",
       "      <th>activity_id</th>\n",
       "      <th>institution_id</th>\n",
       "      <th>source_id</th>\n",
       "      <th>experiment_id</th>\n",
       "      <th>member_id</th>\n",
       "      <th>table_id</th>\n",
       "      <th>variable_id</th>\n",
       "      <th>grid_label</th>\n",
       "      <th>zstore</th>\n",
       "      <th>dcpp_init_year</th>\n",
       "      <th>version</th>\n",
       "    </tr>\n",
       "  </thead>\n",
       "  <tbody>\n",
       "    <tr>\n",
       "      <th>0</th>\n",
       "      <td>CMIP</td>\n",
       "      <td>NCAR</td>\n",
       "      <td>CESM2</td>\n",
       "      <td>historical</td>\n",
       "      <td>r4i1p1f1</td>\n",
       "      <td>Amon</td>\n",
       "      <td>tas</td>\n",
       "      <td>gn</td>\n",
       "      <td>s3://cmip6-pds/CMIP6/CMIP/NCAR/CESM2/historica...</td>\n",
       "      <td>NaN</td>\n",
       "      <td>20190308</td>\n",
       "    </tr>\n",
       "    <tr>\n",
       "      <th>1</th>\n",
       "      <td>CMIP</td>\n",
       "      <td>NCAR</td>\n",
       "      <td>CESM2</td>\n",
       "      <td>historical</td>\n",
       "      <td>r10i1p1f1</td>\n",
       "      <td>Amon</td>\n",
       "      <td>tas</td>\n",
       "      <td>gn</td>\n",
       "      <td>s3://cmip6-pds/CMIP6/CMIP/NCAR/CESM2/historica...</td>\n",
       "      <td>NaN</td>\n",
       "      <td>20190313</td>\n",
       "    </tr>\n",
       "    <tr>\n",
       "      <th>2</th>\n",
       "      <td>ScenarioMIP</td>\n",
       "      <td>NCAR</td>\n",
       "      <td>CESM2</td>\n",
       "      <td>ssp245</td>\n",
       "      <td>r4i1p1f1</td>\n",
       "      <td>Amon</td>\n",
       "      <td>tas</td>\n",
       "      <td>gn</td>\n",
       "      <td>s3://cmip6-pds/CMIP6/ScenarioMIP/NCAR/CESM2/ss...</td>\n",
       "      <td>NaN</td>\n",
       "      <td>20200528</td>\n",
       "    </tr>\n",
       "    <tr>\n",
       "      <th>3</th>\n",
       "      <td>ScenarioMIP</td>\n",
       "      <td>NCAR</td>\n",
       "      <td>CESM2</td>\n",
       "      <td>ssp585</td>\n",
       "      <td>r4i1p1f1</td>\n",
       "      <td>Amon</td>\n",
       "      <td>tas</td>\n",
       "      <td>gn</td>\n",
       "      <td>s3://cmip6-pds/CMIP6/ScenarioMIP/NCAR/CESM2/ss...</td>\n",
       "      <td>NaN</td>\n",
       "      <td>20200528</td>\n",
       "    </tr>\n",
       "    <tr>\n",
       "      <th>4</th>\n",
       "      <td>ScenarioMIP</td>\n",
       "      <td>NCAR</td>\n",
       "      <td>CESM2</td>\n",
       "      <td>ssp370</td>\n",
       "      <td>r10i1p1f1</td>\n",
       "      <td>Amon</td>\n",
       "      <td>tas</td>\n",
       "      <td>gn</td>\n",
       "      <td>s3://cmip6-pds/CMIP6/ScenarioMIP/NCAR/CESM2/ss...</td>\n",
       "      <td>NaN</td>\n",
       "      <td>20200528</td>\n",
       "    </tr>\n",
       "    <tr>\n",
       "      <th>5</th>\n",
       "      <td>ScenarioMIP</td>\n",
       "      <td>NCAR</td>\n",
       "      <td>CESM2</td>\n",
       "      <td>ssp126</td>\n",
       "      <td>r10i1p1f1</td>\n",
       "      <td>Amon</td>\n",
       "      <td>tas</td>\n",
       "      <td>gn</td>\n",
       "      <td>s3://cmip6-pds/CMIP6/ScenarioMIP/NCAR/CESM2/ss...</td>\n",
       "      <td>NaN</td>\n",
       "      <td>20200528</td>\n",
       "    </tr>\n",
       "    <tr>\n",
       "      <th>6</th>\n",
       "      <td>ScenarioMIP</td>\n",
       "      <td>NCAR</td>\n",
       "      <td>CESM2</td>\n",
       "      <td>ssp126</td>\n",
       "      <td>r4i1p1f1</td>\n",
       "      <td>Amon</td>\n",
       "      <td>tas</td>\n",
       "      <td>gn</td>\n",
       "      <td>s3://cmip6-pds/CMIP6/ScenarioMIP/NCAR/CESM2/ss...</td>\n",
       "      <td>NaN</td>\n",
       "      <td>20200528</td>\n",
       "    </tr>\n",
       "    <tr>\n",
       "      <th>7</th>\n",
       "      <td>ScenarioMIP</td>\n",
       "      <td>NCAR</td>\n",
       "      <td>CESM2</td>\n",
       "      <td>ssp245</td>\n",
       "      <td>r10i1p1f1</td>\n",
       "      <td>Amon</td>\n",
       "      <td>tas</td>\n",
       "      <td>gn</td>\n",
       "      <td>s3://cmip6-pds/CMIP6/ScenarioMIP/NCAR/CESM2/ss...</td>\n",
       "      <td>NaN</td>\n",
       "      <td>20200528</td>\n",
       "    </tr>\n",
       "    <tr>\n",
       "      <th>8</th>\n",
       "      <td>ScenarioMIP</td>\n",
       "      <td>NCAR</td>\n",
       "      <td>CESM2</td>\n",
       "      <td>ssp585</td>\n",
       "      <td>r10i1p1f1</td>\n",
       "      <td>Amon</td>\n",
       "      <td>tas</td>\n",
       "      <td>gn</td>\n",
       "      <td>s3://cmip6-pds/CMIP6/ScenarioMIP/NCAR/CESM2/ss...</td>\n",
       "      <td>NaN</td>\n",
       "      <td>20200528</td>\n",
       "    </tr>\n",
       "    <tr>\n",
       "      <th>9</th>\n",
       "      <td>ScenarioMIP</td>\n",
       "      <td>NCAR</td>\n",
       "      <td>CESM2</td>\n",
       "      <td>ssp370</td>\n",
       "      <td>r4i1p1f1</td>\n",
       "      <td>Amon</td>\n",
       "      <td>tas</td>\n",
       "      <td>gn</td>\n",
       "      <td>s3://cmip6-pds/CMIP6/ScenarioMIP/NCAR/CESM2/ss...</td>\n",
       "      <td>NaN</td>\n",
       "      <td>20200528</td>\n",
       "    </tr>\n",
       "  </tbody>\n",
       "</table>\n",
       "</div>"
      ],
      "text/plain": [
       "   activity_id institution_id source_id experiment_id  member_id table_id  \\\n",
       "0         CMIP           NCAR     CESM2    historical   r4i1p1f1     Amon   \n",
       "1         CMIP           NCAR     CESM2    historical  r10i1p1f1     Amon   \n",
       "2  ScenarioMIP           NCAR     CESM2        ssp245   r4i1p1f1     Amon   \n",
       "3  ScenarioMIP           NCAR     CESM2        ssp585   r4i1p1f1     Amon   \n",
       "4  ScenarioMIP           NCAR     CESM2        ssp370  r10i1p1f1     Amon   \n",
       "5  ScenarioMIP           NCAR     CESM2        ssp126  r10i1p1f1     Amon   \n",
       "6  ScenarioMIP           NCAR     CESM2        ssp126   r4i1p1f1     Amon   \n",
       "7  ScenarioMIP           NCAR     CESM2        ssp245  r10i1p1f1     Amon   \n",
       "8  ScenarioMIP           NCAR     CESM2        ssp585  r10i1p1f1     Amon   \n",
       "9  ScenarioMIP           NCAR     CESM2        ssp370   r4i1p1f1     Amon   \n",
       "\n",
       "  variable_id grid_label                                             zstore  \\\n",
       "0         tas         gn  s3://cmip6-pds/CMIP6/CMIP/NCAR/CESM2/historica...   \n",
       "1         tas         gn  s3://cmip6-pds/CMIP6/CMIP/NCAR/CESM2/historica...   \n",
       "2         tas         gn  s3://cmip6-pds/CMIP6/ScenarioMIP/NCAR/CESM2/ss...   \n",
       "3         tas         gn  s3://cmip6-pds/CMIP6/ScenarioMIP/NCAR/CESM2/ss...   \n",
       "4         tas         gn  s3://cmip6-pds/CMIP6/ScenarioMIP/NCAR/CESM2/ss...   \n",
       "5         tas         gn  s3://cmip6-pds/CMIP6/ScenarioMIP/NCAR/CESM2/ss...   \n",
       "6         tas         gn  s3://cmip6-pds/CMIP6/ScenarioMIP/NCAR/CESM2/ss...   \n",
       "7         tas         gn  s3://cmip6-pds/CMIP6/ScenarioMIP/NCAR/CESM2/ss...   \n",
       "8         tas         gn  s3://cmip6-pds/CMIP6/ScenarioMIP/NCAR/CESM2/ss...   \n",
       "9         tas         gn  s3://cmip6-pds/CMIP6/ScenarioMIP/NCAR/CESM2/ss...   \n",
       "\n",
       "   dcpp_init_year   version  \n",
       "0             NaN  20190308  \n",
       "1             NaN  20190313  \n",
       "2             NaN  20200528  \n",
       "3             NaN  20200528  \n",
       "4             NaN  20200528  \n",
       "5             NaN  20200528  \n",
       "6             NaN  20200528  \n",
       "7             NaN  20200528  \n",
       "8             NaN  20200528  \n",
       "9             NaN  20200528  "
      ]
     },
     "execution_count": 103,
     "metadata": {},
     "output_type": "execute_result"
    }
   ],
   "source": [
    "future_1_df.head()"
   ]
  },
  {
   "cell_type": "code",
   "execution_count": 104,
   "id": "e412f65f-87b0-4cf3-a546-d85941de60d5",
   "metadata": {
    "tags": []
   },
   "outputs": [
    {
     "data": {
      "text/html": [
       "<div>\n",
       "<style scoped>\n",
       "    .dataframe tbody tr th:only-of-type {\n",
       "        vertical-align: middle;\n",
       "    }\n",
       "\n",
       "    .dataframe tbody tr th {\n",
       "        vertical-align: top;\n",
       "    }\n",
       "\n",
       "    .dataframe thead th {\n",
       "        text-align: right;\n",
       "    }\n",
       "</style>\n",
       "<table border=\"1\" class=\"dataframe\">\n",
       "  <thead>\n",
       "    <tr style=\"text-align: right;\">\n",
       "      <th></th>\n",
       "      <th>activity_id</th>\n",
       "      <th>institution_id</th>\n",
       "      <th>source_id</th>\n",
       "      <th>experiment_id</th>\n",
       "      <th>member_id</th>\n",
       "      <th>table_id</th>\n",
       "      <th>variable_id</th>\n",
       "      <th>grid_label</th>\n",
       "      <th>zstore</th>\n",
       "      <th>dcpp_init_year</th>\n",
       "      <th>version</th>\n",
       "    </tr>\n",
       "  </thead>\n",
       "  <tbody>\n",
       "    <tr>\n",
       "      <th>0</th>\n",
       "      <td>CMIP</td>\n",
       "      <td>CCCma</td>\n",
       "      <td>CanESM5</td>\n",
       "      <td>historical</td>\n",
       "      <td>r10i1p1f1</td>\n",
       "      <td>Amon</td>\n",
       "      <td>tas</td>\n",
       "      <td>gn</td>\n",
       "      <td>s3://cmip6-pds/CMIP6/CMIP/CCCma/CanESM5/histor...</td>\n",
       "      <td>NaN</td>\n",
       "      <td>20190429</td>\n",
       "    </tr>\n",
       "    <tr>\n",
       "      <th>1</th>\n",
       "      <td>ScenarioMIP</td>\n",
       "      <td>CCCma</td>\n",
       "      <td>CanESM5</td>\n",
       "      <td>ssp370</td>\n",
       "      <td>r4i1p1f1</td>\n",
       "      <td>Amon</td>\n",
       "      <td>tas</td>\n",
       "      <td>gn</td>\n",
       "      <td>s3://cmip6-pds/CMIP6/ScenarioMIP/CCCma/CanESM5...</td>\n",
       "      <td>NaN</td>\n",
       "      <td>20190429</td>\n",
       "    </tr>\n",
       "    <tr>\n",
       "      <th>2</th>\n",
       "      <td>ScenarioMIP</td>\n",
       "      <td>CCCma</td>\n",
       "      <td>CanESM5</td>\n",
       "      <td>ssp585</td>\n",
       "      <td>r10i1p1f1</td>\n",
       "      <td>Amon</td>\n",
       "      <td>tas</td>\n",
       "      <td>gn</td>\n",
       "      <td>s3://cmip6-pds/CMIP6/ScenarioMIP/CCCma/CanESM5...</td>\n",
       "      <td>NaN</td>\n",
       "      <td>20190429</td>\n",
       "    </tr>\n",
       "    <tr>\n",
       "      <th>3</th>\n",
       "      <td>CMIP</td>\n",
       "      <td>CCCma</td>\n",
       "      <td>CanESM5</td>\n",
       "      <td>historical</td>\n",
       "      <td>r4i1p1f1</td>\n",
       "      <td>Amon</td>\n",
       "      <td>tas</td>\n",
       "      <td>gn</td>\n",
       "      <td>s3://cmip6-pds/CMIP6/CMIP/CCCma/CanESM5/histor...</td>\n",
       "      <td>NaN</td>\n",
       "      <td>20190429</td>\n",
       "    </tr>\n",
       "    <tr>\n",
       "      <th>4</th>\n",
       "      <td>ScenarioMIP</td>\n",
       "      <td>CCCma</td>\n",
       "      <td>CanESM5</td>\n",
       "      <td>ssp585</td>\n",
       "      <td>r4i1p1f1</td>\n",
       "      <td>Amon</td>\n",
       "      <td>tas</td>\n",
       "      <td>gn</td>\n",
       "      <td>s3://cmip6-pds/CMIP6/ScenarioMIP/CCCma/CanESM5...</td>\n",
       "      <td>NaN</td>\n",
       "      <td>20190429</td>\n",
       "    </tr>\n",
       "    <tr>\n",
       "      <th>5</th>\n",
       "      <td>ScenarioMIP</td>\n",
       "      <td>CCCma</td>\n",
       "      <td>CanESM5</td>\n",
       "      <td>ssp245</td>\n",
       "      <td>r4i1p1f1</td>\n",
       "      <td>Amon</td>\n",
       "      <td>tas</td>\n",
       "      <td>gn</td>\n",
       "      <td>s3://cmip6-pds/CMIP6/ScenarioMIP/CCCma/CanESM5...</td>\n",
       "      <td>NaN</td>\n",
       "      <td>20190429</td>\n",
       "    </tr>\n",
       "    <tr>\n",
       "      <th>6</th>\n",
       "      <td>ScenarioMIP</td>\n",
       "      <td>CCCma</td>\n",
       "      <td>CanESM5</td>\n",
       "      <td>ssp370</td>\n",
       "      <td>r10i1p1f1</td>\n",
       "      <td>Amon</td>\n",
       "      <td>tas</td>\n",
       "      <td>gn</td>\n",
       "      <td>s3://cmip6-pds/CMIP6/ScenarioMIP/CCCma/CanESM5...</td>\n",
       "      <td>NaN</td>\n",
       "      <td>20190429</td>\n",
       "    </tr>\n",
       "    <tr>\n",
       "      <th>7</th>\n",
       "      <td>ScenarioMIP</td>\n",
       "      <td>CCCma</td>\n",
       "      <td>CanESM5</td>\n",
       "      <td>ssp126</td>\n",
       "      <td>r10i1p1f1</td>\n",
       "      <td>Amon</td>\n",
       "      <td>tas</td>\n",
       "      <td>gn</td>\n",
       "      <td>s3://cmip6-pds/CMIP6/ScenarioMIP/CCCma/CanESM5...</td>\n",
       "      <td>NaN</td>\n",
       "      <td>20190429</td>\n",
       "    </tr>\n",
       "    <tr>\n",
       "      <th>8</th>\n",
       "      <td>ScenarioMIP</td>\n",
       "      <td>CCCma</td>\n",
       "      <td>CanESM5</td>\n",
       "      <td>ssp126</td>\n",
       "      <td>r4i1p1f1</td>\n",
       "      <td>Amon</td>\n",
       "      <td>tas</td>\n",
       "      <td>gn</td>\n",
       "      <td>s3://cmip6-pds/CMIP6/ScenarioMIP/CCCma/CanESM5...</td>\n",
       "      <td>NaN</td>\n",
       "      <td>20190429</td>\n",
       "    </tr>\n",
       "    <tr>\n",
       "      <th>9</th>\n",
       "      <td>ScenarioMIP</td>\n",
       "      <td>CCCma</td>\n",
       "      <td>CanESM5</td>\n",
       "      <td>ssp245</td>\n",
       "      <td>r10i1p1f1</td>\n",
       "      <td>Amon</td>\n",
       "      <td>tas</td>\n",
       "      <td>gn</td>\n",
       "      <td>s3://cmip6-pds/CMIP6/ScenarioMIP/CCCma/CanESM5...</td>\n",
       "      <td>NaN</td>\n",
       "      <td>20190429</td>\n",
       "    </tr>\n",
       "  </tbody>\n",
       "</table>\n",
       "</div>"
      ],
      "text/plain": [
       "   activity_id institution_id source_id experiment_id  member_id table_id  \\\n",
       "0         CMIP          CCCma   CanESM5    historical  r10i1p1f1     Amon   \n",
       "1  ScenarioMIP          CCCma   CanESM5        ssp370   r4i1p1f1     Amon   \n",
       "2  ScenarioMIP          CCCma   CanESM5        ssp585  r10i1p1f1     Amon   \n",
       "3         CMIP          CCCma   CanESM5    historical   r4i1p1f1     Amon   \n",
       "4  ScenarioMIP          CCCma   CanESM5        ssp585   r4i1p1f1     Amon   \n",
       "5  ScenarioMIP          CCCma   CanESM5        ssp245   r4i1p1f1     Amon   \n",
       "6  ScenarioMIP          CCCma   CanESM5        ssp370  r10i1p1f1     Amon   \n",
       "7  ScenarioMIP          CCCma   CanESM5        ssp126  r10i1p1f1     Amon   \n",
       "8  ScenarioMIP          CCCma   CanESM5        ssp126   r4i1p1f1     Amon   \n",
       "9  ScenarioMIP          CCCma   CanESM5        ssp245  r10i1p1f1     Amon   \n",
       "\n",
       "  variable_id grid_label                                             zstore  \\\n",
       "0         tas         gn  s3://cmip6-pds/CMIP6/CMIP/CCCma/CanESM5/histor...   \n",
       "1         tas         gn  s3://cmip6-pds/CMIP6/ScenarioMIP/CCCma/CanESM5...   \n",
       "2         tas         gn  s3://cmip6-pds/CMIP6/ScenarioMIP/CCCma/CanESM5...   \n",
       "3         tas         gn  s3://cmip6-pds/CMIP6/CMIP/CCCma/CanESM5/histor...   \n",
       "4         tas         gn  s3://cmip6-pds/CMIP6/ScenarioMIP/CCCma/CanESM5...   \n",
       "5         tas         gn  s3://cmip6-pds/CMIP6/ScenarioMIP/CCCma/CanESM5...   \n",
       "6         tas         gn  s3://cmip6-pds/CMIP6/ScenarioMIP/CCCma/CanESM5...   \n",
       "7         tas         gn  s3://cmip6-pds/CMIP6/ScenarioMIP/CCCma/CanESM5...   \n",
       "8         tas         gn  s3://cmip6-pds/CMIP6/ScenarioMIP/CCCma/CanESM5...   \n",
       "9         tas         gn  s3://cmip6-pds/CMIP6/ScenarioMIP/CCCma/CanESM5...   \n",
       "\n",
       "   dcpp_init_year   version  \n",
       "0             NaN  20190429  \n",
       "1             NaN  20190429  \n",
       "2             NaN  20190429  \n",
       "3             NaN  20190429  \n",
       "4             NaN  20190429  \n",
       "5             NaN  20190429  \n",
       "6             NaN  20190429  \n",
       "7             NaN  20190429  \n",
       "8             NaN  20190429  \n",
       "9             NaN  20190429  "
      ]
     },
     "execution_count": 104,
     "metadata": {},
     "output_type": "execute_result"
    }
   ],
   "source": [
    "future_2_df.head()"
   ]
  },
  {
   "cell_type": "markdown",
   "id": "7721e1a9-297a-49c0-8a43-1a8329bfaf10",
   "metadata": {},
   "source": [
    "**For model: CESM2**"
   ]
  },
  {
   "cell_type": "code",
   "execution_count": 21,
   "id": "3744757f-4d76-4ca4-97c7-f1ca65054f96",
   "metadata": {
    "tags": []
   },
   "outputs": [],
   "source": [
    "# Extract data for the historical period, store as a separate xarray Dataset\n",
    "hist_data_1 = xr.open_zarr(future_1.df['zstore'][0], storage_options={'anon': True})\n",
    "\n",
    "# Extract data for an SSP \n",
    "ssp126_data_1 = xr.open_zarr(future_1.df['zstore'][3], storage_options={'anon': True})\n",
    "\n",
    "# Extract data for an SSP \n",
    "ssp585_data_1 = xr.open_zarr(future_1.df['zstore'][2], storage_options={'anon': True})"
   ]
  },
  {
   "cell_type": "markdown",
   "id": "00450449-a07c-400e-8325-8a8f0f3c29da",
   "metadata": {},
   "source": [
    "**For model: CanESM**"
   ]
  },
  {
   "cell_type": "code",
   "execution_count": 105,
   "id": "a286590c-d643-4c14-83b5-95c00ae0d6fd",
   "metadata": {
    "tags": []
   },
   "outputs": [],
   "source": [
    "# Extract data for the historical period, store as a separate xarray Dataset\n",
    "hist_data_2 = xr.open_zarr(future_2.df['zstore'][0], storage_options={'anon': True})\n",
    "\n",
    "# Extract data for an SSP \n",
    "ssp126_data_2 = xr.open_zarr(future_2.df['zstore'][7], storage_options={'anon': True})\n",
    "\n",
    "# Extract data for an SSP \n",
    "ssp585_data_2 = xr.open_zarr(future_2.df['zstore'][2], storage_options={'anon': True})"
   ]
  },
  {
   "cell_type": "markdown",
   "id": "a51ab4f3-8a76-4d13-adcc-369129e69cbf",
   "metadata": {},
   "source": [
    "### Create Time Series\n",
    "\n",
    " Read in the surface air temperature datasets from 1 and 2, and create annually averaged,\n",
    "area-weighted, regionally averaged time series for your region of interest.\n",
    "\n",
    "#### Region of Interest\n",
    "\n",
    "The region I'm interested in is the Bay Area - as that's where I'm from! Fremont, California (my hometown) is located in the Bay Area - on the coast of the mid-point of California. It's has rather moderate temperatures and mild weather, but can contain many micro-climates (e.g. fog in San Francisco - to intense heat in San Jose). It's quite urbanized, in the areas near the coase, but contains farmland and natural parks further inland."
   ]
  },
  {
   "cell_type": "code",
   "execution_count": 106,
   "id": "23f5841c-1038-4a77-9632-fd5672aab5ec",
   "metadata": {
    "tags": []
   },
   "outputs": [],
   "source": [
    "# Concatenate historical and future projection data\n",
    "time_series_1 = xr.concat([hist_data_1, ssp126_data_1], dim=\"time\")\n",
    "time_series_2 = xr.concat([hist_data_1, ssp585_data_1], dim=\"time\")\n",
    "time_series_3 = xr.concat([hist_data_2, ssp126_data_2], dim=\"time\")\n",
    "time_series_4 = xr.concat([hist_data_2, ssp585_data_2], dim=\"time\")"
   ]
  },
  {
   "cell_type": "code",
   "execution_count": 107,
   "id": "637967fb-bf59-48c8-aaa7-d39259b49ac9",
   "metadata": {
    "tags": []
   },
   "outputs": [],
   "source": [
    "# Define min/max bounds for region of interest \n",
    "lat_min, lat_max = 37.0, 38.5 \n",
    "lon_min, lon_max = 236.5, 238.0 \n",
    "\n",
    "# Define logical mask: True when lat/lon inside the valid ranges, False elsewhere\n",
    "lat_1 = (time_series_1.lat >= lat_min) & (time_series_1.lat <= lat_max)\n",
    "lon_1 = (time_series_1.lon >= lon_min) & (time_series_1.lon <= lon_max)\n",
    "\n",
    "lat_2 = (time_series_2.lat >= lat_min) & (time_series_2.lat <= lat_max)\n",
    "lon_2 = (time_series_2.lon >= lon_min) & (time_series_2.lon <= lon_max)\n",
    "\n",
    "lat_3 = (time_series_3.lat >= lat_min) & (time_series_3.lat <= lat_max)\n",
    "lon_3 = (time_series_3.lon >= lon_min) & (time_series_3.lon <= lon_max)\n",
    "\n",
    "lat_4 = (time_series_4.lat >= lat_min) & (time_series_4.lat <= lat_max)\n",
    "lon_4 = (time_series_4.lon >= lon_min) & (time_series_4.lon <= lon_max)"
   ]
  },
  {
   "cell_type": "code",
   "execution_count": 108,
   "id": "4f7b0b76-4f4f-43f8-adec-6b3d515307e9",
   "metadata": {
    "tags": []
   },
   "outputs": [],
   "source": [
    "# Find points where the mask value is True, drop all other points\n",
    "BayArea_1 = time_series_1.where(lat_1 & lon_1, drop=True)\n",
    "BayArea_2 = time_series_2.where(lat_2 & lon_2, drop=True)\n",
    "BayArea_3 = time_series_3.where(lat_3 & lon_3, drop=True)\n",
    "BayArea_4 = time_series_4.where(lat_4 & lon_4, drop=True)"
   ]
  },
  {
   "cell_type": "code",
   "execution_count": 109,
   "id": "ab4ab940-10df-4b88-beb2-f0195b6b37ea",
   "metadata": {
    "tags": []
   },
   "outputs": [],
   "source": [
    "# Extract the tas variable, store as xarray DataArray and convert units to Celsius\n",
    "temp_data_1 = BayArea_1.tas - 273.15\n",
    "temp_data_2 = BayArea_2.tas - 273.15\n",
    "temp_data_3 = BayArea_3.tas - 273.15\n",
    "temp_data_4 = BayArea_4.tas - 273.15"
   ]
  },
  {
   "cell_type": "code",
   "execution_count": 110,
   "id": "06bc4b45-f32d-467f-b93b-41cba952c058",
   "metadata": {
    "tags": []
   },
   "outputs": [],
   "source": [
    "# Define function to generate area weights\n",
    "def weights(dat):\n",
    "    # Calculate weighting factor = cosine of latitude\n",
    "    coslat = np.cos(np.deg2rad(dat.lat))\n",
    "    weight_factor = coslat / coslat.mean(dim='lat')\n",
    "    \n",
    "    # Weight all points by the weighting factor\n",
    "    computed_weight = dat * weight_factor\n",
    "    \n",
    "    # Return the set of weights: this has dimension equal to that of the input data\n",
    "    return computed_weight"
   ]
  },
  {
   "cell_type": "code",
   "execution_count": 111,
   "id": "5e9cf83b-d7c9-4d05-921c-5385022cf023",
   "metadata": {
    "tags": []
   },
   "outputs": [],
   "source": [
    "# Apply weighted function\n",
    "weighted_temp_1 = weights(temp_data_1)\n",
    "weighted_temp_2 = weights(temp_data_2)\n",
    "weighted_temp_3 = weights(temp_data_3)\n",
    "weighted_temp_4 = weights(temp_data_4)"
   ]
  },
  {
   "cell_type": "code",
   "execution_count": 112,
   "id": "152ae37d-c895-4b5d-b10a-2e1fd0a44062",
   "metadata": {
    "tags": []
   },
   "outputs": [],
   "source": [
    "# Calculate global weighted average\n",
    "weighted_BayArea_temp_1 = weighted_temp_1.mean(dim=['lat', 'lon'])\n",
    "weighted_BayArea_temp_2 = weighted_temp_2.mean(dim=['lat', 'lon'])\n",
    "weighted_BayArea_temp_3 = weighted_temp_3.mean(dim=['lat', 'lon'])\n",
    "weighted_BayArea_temp_4 = weighted_temp_4.mean(dim=['lat', 'lon'])"
   ]
  },
  {
   "cell_type": "code",
   "execution_count": 113,
   "id": "9e56cd71-5979-4c89-a6e1-5b55588b2efc",
   "metadata": {
    "tags": []
   },
   "outputs": [],
   "source": [
    "# Calculate annual average\n",
    "yearly_weighted_BayArea_temp_1 = weighted_BayArea_temp_1.groupby('time.year').mean()\n",
    "yearly_weighted_BayArea_temp_2 = weighted_BayArea_temp_2.groupby('time.year').mean()\n",
    "yearly_weighted_BayArea_temp_3 = weighted_BayArea_temp_3.groupby('time.year').mean()\n",
    "yearly_weighted_BayArea_temp_4 = weighted_BayArea_temp_4.groupby('time.year').mean()"
   ]
  },
  {
   "cell_type": "markdown",
   "id": "431634f2-e114-439d-a941-4e5eef9f4e84",
   "metadata": {},
   "source": [
    "### Trend Lines\n",
    "\n",
    "We need to create trend lines for the historical (1850 - 2015) and historical + future (1850 - 2100) periods. "
   ]
  },
  {
   "cell_type": "markdown",
   "id": "2291cc7a-9a23-4f6f-b47d-b98a30507e94",
   "metadata": {},
   "source": [
    "##### Historical trend lines"
   ]
  },
  {
   "cell_type": "code",
   "execution_count": 114,
   "id": "e66aec2d-ad6f-4b6b-8f1c-e174e21a2811",
   "metadata": {
    "tags": []
   },
   "outputs": [],
   "source": [
    "# Create slices of your data \n",
    "hist_1 = yearly_weighted_BayArea_temp_1.sel(year=slice('1850','2015'))\n",
    "hist_2 = yearly_weighted_BayArea_temp_2.sel(year=slice('1850','2015'))\n",
    "hist_3 = yearly_weighted_BayArea_temp_3.sel(year=slice('1850','2015'))\n",
    "hist_4 = yearly_weighted_BayArea_temp_4.sel(year=slice('1850','2015'))"
   ]
  },
  {
   "cell_type": "code",
   "execution_count": 115,
   "id": "7b8428c2-5483-403a-945b-e32c2de41945",
   "metadata": {
    "tags": []
   },
   "outputs": [],
   "source": [
    "# Extract the temperature values from your DataArrays\n",
    "x_hist_1 = np.polyfit(hist_1.year.values, hist_1.values, 1)\n",
    "x_hist_2 = np.polyfit(hist_2.year.values, hist_2.values, 1)\n",
    "x_hist_3 = np.polyfit(hist_3.year.values, hist_3.values, 1)\n",
    "x_hist_4 = np.polyfit(hist_4.year.values, hist_4.values, 1)"
   ]
  },
  {
   "cell_type": "code",
   "execution_count": 116,
   "id": "ffef2f09-a0da-4f73-8721-bec624337bc5",
   "metadata": {
    "tags": []
   },
   "outputs": [],
   "source": [
    "# Generate polynomial objects\n",
    "trend_line_hist_1 = np.poly1d(x_hist_1)\n",
    "trend_line_hist_2 = np.poly1d(x_hist_2)\n",
    "trend_line_hist_3 = np.poly1d(x_hist_3)\n",
    "trend_line_hist_4 = np.poly1d(x_hist_4)"
   ]
  },
  {
   "cell_type": "markdown",
   "id": "7dd66ff7-f44b-483b-bee7-2b4ce2e2434e",
   "metadata": {},
   "source": [
    "##### Historical + Future trend lines"
   ]
  },
  {
   "cell_type": "code",
   "execution_count": 117,
   "id": "860be760-ffe2-4156-8bbd-b3701628cfe2",
   "metadata": {
    "tags": []
   },
   "outputs": [],
   "source": [
    "# Calculate best-fit parameters for the linear polynomial fit of temperature to year\n",
    "x_1 = np.polyfit(yearly_weighted_BayArea_temp_1.year, yearly_weighted_BayArea_temp_1, 1)"
   ]
  },
  {
   "cell_type": "code",
   "execution_count": 118,
   "id": "2c2dfb03-436e-43d3-b5c0-89d467a22346",
   "metadata": {
    "tags": []
   },
   "outputs": [],
   "source": [
    "x_2 = np.polyfit(yearly_weighted_BayArea_temp_2.year, yearly_weighted_BayArea_temp_2, 1)\n",
    "x_3 = np.polyfit(yearly_weighted_BayArea_temp_3.year, yearly_weighted_BayArea_temp_3, 1)\n",
    "x_4 = np.polyfit(yearly_weighted_BayArea_temp_4.year, yearly_weighted_BayArea_temp_4, 1)"
   ]
  },
  {
   "cell_type": "code",
   "execution_count": 119,
   "id": "8f8efcc0-7818-42a1-a02d-85a3882e3507",
   "metadata": {
    "tags": []
   },
   "outputs": [],
   "source": [
    "# Generate a polynomial object using those best-fit parameters\n",
    "trend_line_1 = np.poly1d(x_1) "
   ]
  },
  {
   "cell_type": "code",
   "execution_count": 120,
   "id": "27ab62fd-3a36-468d-8d49-6896da40fea6",
   "metadata": {
    "tags": []
   },
   "outputs": [],
   "source": [
    "trend_line_2 = np.poly1d(x_2) \n",
    "trend_line_3 = np.poly1d(x_3) \n",
    "trend_line_4 = np.poly1d(x_4) "
   ]
  },
  {
   "cell_type": "markdown",
   "id": "53c00cb9-f806-4a03-8448-756a109a3a50",
   "metadata": {},
   "source": [
    "### Plot!"
   ]
  },
  {
   "cell_type": "code",
   "execution_count": 121,
   "id": "bbc001cc-dbbc-4bb1-ab90-e7d2d315c8b0",
   "metadata": {
    "tags": []
   },
   "outputs": [
    {
     "data": {
      "image/png": "[encoded data removed]",
      "text/plain": [
       "<Figure size 640x480 with 1 Axes>"
      ]
     },
     "metadata": {},
     "output_type": "display_data"
    }
   ],
   "source": [
    "plt.figure()\n",
    "plt.plot(yearly_weighted_BayArea_temp_1.year, yearly_weighted_BayArea_temp_1, label='Weighted Mean Temperature (°C)', color='blue')\n",
    "plt.plot(yearly_weighted_BayArea_temp_1.year, trend_line_hist_1(yearly_weighted_BayArea_temp_1.year), color='black', label=f'Hist Trend Line')\n",
    "plt.plot(yearly_weighted_BayArea_temp_1.year, trend_line_1(yearly_weighted_BayArea_temp_1.year), color='red', label=f'Hist + Future Trend Line')\n",
    "\n",
    "plt.xlabel('Year')\n",
    "plt.ylabel('Temperature (°C)')\n",
    "plt.title('Mean Surface Air Temperature in the SF Bay Area - Model: CESM2, SSP126')\n",
    "\n",
    "plt.legend()\n",
    "plt.grid()\n",
    "plt.show()"
   ]
  },
  {
   "cell_type": "code",
   "execution_count": 122,
   "id": "515a8582-87ab-430a-8c33-4ec83fb28c60",
   "metadata": {
    "tags": []
   },
   "outputs": [
    {
     "data": {
      "image/png": "[encoded data removed]",
      "text/plain": [
       "<Figure size 640x480 with 1 Axes>"
      ]
     },
     "metadata": {},
     "output_type": "display_data"
    }
   ],
   "source": [
    "plt.figure()\n",
    "plt.plot(yearly_weighted_BayArea_temp_2.year, yearly_weighted_BayArea_temp_2, label='Weighted Mean Temperature (°C)', color='blue')\n",
    "plt.plot(yearly_weighted_BayArea_temp_2.year, trend_line_hist_2(yearly_weighted_BayArea_temp_2.year), color='black', label='Hist Trend Line')\n",
    "plt.plot(yearly_weighted_BayArea_temp_2.year, trend_line_2(yearly_weighted_BayArea_temp_2.year), color='red', label= 'Hist + Future Trend Line')\n",
    "\n",
    "plt.xlabel('Year')\n",
    "plt.ylabel('Temperature (°C)')\n",
    "plt.title('Mean Surface Air Temperature in the SF Bay Area - Model: CESM2, SSP585')\n",
    "\n",
    "plt.legend()\n",
    "plt.grid()\n",
    "plt.show()"
   ]
  },
  {
   "cell_type": "code",
   "execution_count": 123,
   "id": "42ba4ba5-b587-4b4c-9e3d-c9ecefd1f8e4",
   "metadata": {
    "tags": []
   },
   "outputs": [
    {
     "data": {
      "image/png": "[encoded data removed]",
      "text/plain": [
       "<Figure size 640x480 with 1 Axes>"
      ]
     },
     "metadata": {},
     "output_type": "display_data"
    }
   ],
   "source": [
    "plt.figure()\n",
    "plt.plot(yearly_weighted_BayArea_temp_3.year, yearly_weighted_BayArea_temp_3, label='Weighted Mean Temperature (°C)', color='blue')\n",
    "plt.plot(yearly_weighted_BayArea_temp_3.year, trend_line_hist_3(yearly_weighted_BayArea_temp_3.year), color='black', label='Hist Trend Line')\n",
    "plt.plot(yearly_weighted_BayArea_temp_3.year, trend_line_3(yearly_weighted_BayArea_temp_3.year), color='red', label='Hist + Future Trend Line')\n",
    "\n",
    "plt.xlabel('Year')\n",
    "plt.ylabel('Temperature (°C)')\n",
    "plt.title('Mean Surface Air Temperature in the SF Bay Area: CanESM5, SSP126')\n",
    "\n",
    "plt.legend()\n",
    "plt.grid()\n",
    "plt.show()"
   ]
  },
  {
   "cell_type": "code",
   "execution_count": 124,
   "id": "93962d94-f93a-4030-b6a7-dd22e35525b9",
   "metadata": {
    "tags": []
   },
   "outputs": [
    {
     "data": {
      "image/png": "[encoded data removed]",
      "text/plain": [
       "<Figure size 640x480 with 1 Axes>"
      ]
     },
     "metadata": {},
     "output_type": "display_data"
    }
   ],
   "source": [
    "plt.figure()\n",
    "plt.plot(yearly_weighted_BayArea_temp_4.year, yearly_weighted_BayArea_temp_4, label='Weighted Mean Temperature (°C)', color='blue')\n",
    "plt.plot(yearly_weighted_BayArea_temp_4.year, trend_line_hist_4(yearly_weighted_BayArea_temp_4.year), color='black', label=f'Hist Trend Line')\n",
    "plt.plot(yearly_weighted_BayArea_temp_4.year, trend_line_4(yearly_weighted_BayArea_temp_4.year), color='red', label=f'Hist + Future Trend Line')\n",
    "\n",
    "plt.xlabel('Year')\n",
    "plt.ylabel('Temperature (°C)')\n",
    "plt.title('Mean Surface Air Temperature in the SF Bay Area: CanESM5, SSP585')\n",
    "\n",
    "plt.legend()\n",
    "plt.grid()\n",
    "plt.show()"
   ]
  },
  {
   "cell_type": "markdown",
   "id": "936d27e9-9e7d-42f5-96a8-d64b2ae55198",
   "metadata": {},
   "source": [
    "From these plots - we can see that the surface air temperature - in both models for the 3 future scenarios - is one an upward trend. For the CESM2 model - for the second scenario, the curve is has a more consistnently exponential increase whereas there is some variation in the second plot. This will have devastating impacts on the Bay Area populations as well environmental systems. (For example loss of habitat and biodiversity - which may impact agricultural yield. Increasing heat waves can also cause negative health impacts to vunerable populations.) There was no information to plotfor the CanESM5 model."
   ]
  }
 ],
 "metadata": {
  "kernelspec": {
   "display_name": "Anaconda 3 (EDS 296)",
   "language": "python",
   "name": "eds296-stevenson"
  },
  "language_info": {
   "codemirror_mode": {
    "name": "ipython",
    "version": 3
   },
   "file_extension": ".py",
   "mimetype": "text/x-python",
   "name": "python",
   "nbconvert_exporter": "python",
   "pygments_lexer": "ipython3",
   "version": "3.8.18"
  }
 },
 "nbformat": 4,
 "nbformat_minor": 5
}
